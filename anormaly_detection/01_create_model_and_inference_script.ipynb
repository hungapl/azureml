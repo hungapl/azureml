{
 "cells": [
  {
   "cell_type": "code",
   "execution_count": 1,
   "metadata": {},
   "outputs": [
    {
     "name": "stdout",
     "output_type": "stream",
     "text": [
      "Python 3.6.1 :: Anaconda custom (64-bit)\n",
      "azure-cli                         2.0.75\n",
      "\n",
      "command-modules-nspkg              2.0.3\n",
      "core                              2.0.75\n",
      "nspkg                              3.0.4\n",
      "telemetry                          1.0.4\n",
      "\n",
      "Extensions:\n",
      "azure-cli-iot-ext                  0.8.4\n",
      "\n",
      "Python location '/opt/az/bin/python3'\n",
      "Extensions directory '/home/hungap/.azure/cliextensions'\n",
      "\n",
      "Python (Linux) 3.6.5 (default, Oct 11 2019, 09:04:16) \n",
      "[GCC 5.4.0 20160609]\n",
      "\n",
      "Legal docs and information: aka.ms/AzureCliLegal\n",
      "\n",
      "\n",
      "Your CLI is up-to-date.\n",
      "SDK version: 1.0.39\n",
      "\u001b[33mNote, we have launched a browser for you to login. For old experience with device code, use \"az login --use-device-code\"\u001b[0m\n",
      "Unable to revert mtime: /usr/local/share/fonts\n",
      "[10876:10896:1029/153849.433126:ERROR:browser_process_sub_thread.cc(217)] Waited 3 ms for network service\n",
      "Opening in existing browser session.\n",
      "\u001b[33mYou have logged in. Now let us find all the subscriptions to which you have access...\u001b[0m\n",
      "[\n",
      "  {\n",
      "    \"cloudName\": \"AzureCloud\",\n",
      "    \"id\": \"2b76f630-69ca-40e9-a1ce-69d0d46fcca8\",\n",
      "    \"isDefault\": false,\n",
      "    \"name\": \"MineStar EXT QA\",\n",
      "    \"state\": \"Enabled\",\n",
      "    \"tenantId\": \"ceb177bf-013b-49ab-8a9c-4abce32afc1e\",\n",
      "    \"user\": {\n",
      "      \"name\": \"Hung_Alice_P@cat.com\",\n",
      "      \"type\": \"user\"\n",
      "    }\n",
      "  },\n",
      "  {\n",
      "    \"cloudName\": \"AzureCloud\",\n",
      "    \"id\": \"2643b3a6-256f-49a8-81a2-16283d061433\",\n",
      "    \"isDefault\": true,\n",
      "    \"name\": \"MineStar EXT Dev\",\n",
      "    \"state\": \"Enabled\",\n",
      "    \"tenantId\": \"ceb177bf-013b-49ab-8a9c-4abce32afc1e\",\n",
      "    \"user\": {\n",
      "      \"name\": \"Hung_Alice_P@cat.com\",\n",
      "      \"type\": \"user\"\n",
      "    }\n",
      "  },\n",
      "  {\n",
      "    \"cloudName\": \"AzureCloud\",\n",
      "    \"id\": \"2dc23ad0-abb9-4908-a669-196ef7956029\",\n",
      "    \"isDefault\": false,\n",
      "    \"name\": \"MineStar EXT Staging\",\n",
      "    \"state\": \"Enabled\",\n",
      "    \"tenantId\": \"ceb177bf-013b-49ab-8a9c-4abce32afc1e\",\n",
      "    \"user\": {\n",
      "      \"name\": \"Hung_Alice_P@cat.com\",\n",
      "      \"type\": \"user\"\n",
      "    }\n",
      "  }\n",
      "]\n",
      "\u001b[0m"
     ]
    }
   ],
   "source": [
    "%run 00_common.ipynb"
   ]
  },
  {
   "cell_type": "code",
   "execution_count": 2,
   "metadata": {},
   "outputs": [
    {
     "name": "stdout",
     "output_type": "stream",
     "text": [
      "Setting subscription...\n",
      "\u001b[0mConfiguring workspace...\n"
     ]
    },
    {
     "name": "stderr",
     "output_type": "stream",
     "text": [
      "Warning: Falling back to use azure cli login credentials.\n",
      "If you run your code in unattended mode, i.e., where you can't give a user input, then we recommend to use ServicePrincipalAuthentication or MsiAuthentication.\n",
      "Please refer to aka.ms/aml-notebook-auth for different authentication mechanisms in azureml-sdk.\n"
     ]
    },
    {
     "name": "stdout",
     "output_type": "stream",
     "text": [
      "Azure ML Workspace: iotedge\n"
     ]
    }
   ],
   "source": [
    "post_login()\n",
    "ws = load_workspace()"
   ]
  },
  {
   "cell_type": "markdown",
   "metadata": {},
   "source": [
    "### Step 2: Train Model"
   ]
  },
  {
   "cell_type": "code",
   "execution_count": 27,
   "metadata": {
    "collapsed": true
   },
   "outputs": [],
   "source": [
    "# Step 1. Train \n",
    "# Load the data set\n",
    "import pandas\n",
    "import numpy\n",
    "import pickle\n",
    "\n",
    "\n",
    "from sklearn import tree\n",
    "from sklearn.model_selection import train_test_split\n",
    "temp_data = pandas.read_csv('temperature_data.csv')\n",
    "# Load features and labels\n",
    "X, Y = temp_data[['machine_temperature', 'machine_pressure', 'ambient_temperature', 'ambient_humidity']].values, temp_data['anomaly'].values\n",
    "# Split data 65%-35% into training set and test set\n",
    "X_train, X_test, Y_train, Y_test = train_test_split(X, Y, test_size=0.35, random_state=0)\n",
    "\n",
    "# Change regularization rate and you will likely get a different accuracy.\n",
    "reg = 0.01\n",
    "\n",
    "# Train a decision tree on the training set\n",
    "#clf1 = LogisticRegression(C=1/reg).fit(X_train, Y_train)\n",
    "clf1 = tree.DecisionTreeClassifier()\n",
    "clf1 = clf1.fit(X_train, Y_train)\n",
    "print (clf1)\n",
    "\n",
    "# Evaluate the test set\n",
    "accuracy = clf1.score(X_test, Y_test)\n",
    "\n",
    "print (\"Accuracy is {}\".format(accuracy))\n",
    "\n",
    "# Serialize the model and write to disk\n",
    "f = open('model.pkl', 'wb')\n",
    "pickle.dump(clf1, f)\n",
    "f.close()\n",
    "print (\"Exported the model to model.pkl\")"
   ]
  },
  {
   "cell_type": "markdown",
   "metadata": {},
   "source": [
    "### Step 2: Test Trained Model"
   ]
  },
  {
   "cell_type": "code",
   "execution_count": null,
   "metadata": {
    "collapsed": true
   },
   "outputs": [],
   "source": [
    "print(\"Import the model from model.pkl\")\n",
    "f2 = open('model.pkl', 'rb')\n",
    "\n",
    "clf2 = pickle.load(f2)\n",
    "\n",
    "# Normal (not an anomaly)\n",
    "#X_new = [[24.90294136, 1.44463889, 20.89537849, 24]]\n",
    "#X_new = [[33.40859853, 2.413637808, 20.89162813, 26]]\n",
    "#X_new = [[34.42109181, 2.528985143, 21.23903786, 25]]\n",
    "\n",
    "# Anomaly\n",
    "X_new = [[33.66995566, 2.44341267, 21.39450979, 26]]\n",
    "#X_new = [[105.5457931, 10.63179922, 20.62029994, 26]]\n",
    "\n",
    "print ('New sample: {}'.format(X_new))\n",
    "\n",
    "pred = clf2.predict(X_new)\n",
    "print('Predicted class is {}'.format(pred))"
   ]
  },
  {
   "cell_type": "markdown",
   "metadata": {},
   "source": [
    "### Step 3 Register Model"
   ]
  },
  {
   "cell_type": "code",
   "execution_count": null,
   "metadata": {
    "collapsed": true
   },
   "outputs": [],
   "source": [
    "from azureml.core.model import Model\n",
    "override = False\n",
    "register = True\n",
    "model_name = \"azureml-anormaly-model\"\n",
    "model_path = \"model.pkl\"\n",
    "\n",
    "if register:\n",
    "    model = register_model(ws, model_path, model_name)"
   ]
  },
  {
   "cell_type": "markdown",
   "metadata": {},
   "source": [
    "### Step 4: Create Inference Script"
   ]
  },
  {
   "cell_type": "code",
   "execution_count": null,
   "metadata": {
    "collapsed": true
   },
   "outputs": [],
   "source": [
    "%%writefile iot_score.py\n",
    "# This script generates the scoring file\n",
    "# with the init and run functions needed to \n",
    "# operationalize the anomaly detection sample\n",
    "\n",
    "import pickle\n",
    "import json\n",
    "import pandas\n",
    "from sklearn.externals import joblib\n",
    "from sklearn.linear_model import Ridge\n",
    "from azureml.core.model import Model\n",
    "\n",
    "def init():\n",
    "    global model\n",
    "    model_name = \"azureml-anormaly-model\"\n",
    "    # this is a different behavior than before when the code is run locally, even though the code is the same.\n",
    "    model_path = Model.get_model_path(model_name)\n",
    "    # deserialize the model file back into a sklearn model\n",
    "    model = joblib.load(model_path)\n",
    "\n",
    "# note you can pass in multiple rows for scoring\n",
    "def run(input_str):\n",
    "    try:\n",
    "        input_json = json.loads(input_str)\n",
    "        input_df = pandas.DataFrame([[input_json['machine']['temperature'],input_json['machine']['pressure'],input_json['ambient']['temperature'],input_json['ambient']['humidity']]])\n",
    "        pred = model.predict(input_df)\n",
    "        print(\"Prediction is \", pred[0])\n",
    "    except Exception as e:\n",
    "        result = str(e)\n",
    "        return json.dumps(result)\n",
    "        \n",
    "    if pred[0] == 1:\n",
    "        input_json['anomaly']=True\n",
    "    else:\n",
    "        input_json['anomaly']=False\n",
    "        \n",
    "    return [json.dumps(input_json)]\n"
   ]
  }
 ],
 "metadata": {
  "kernelspec": {
   "display_name": "Python 3",
   "language": "python",
   "name": "python3"
  },
  "language_info": {
   "codemirror_mode": {
    "name": "ipython",
    "version": 3
   },
   "file_extension": ".py",
   "mimetype": "text/x-python",
   "name": "python",
   "nbconvert_exporter": "python",
   "pygments_lexer": "ipython3",
   "version": "3.6.1"
  }
 },
 "nbformat": 4,
 "nbformat_minor": 2
}
