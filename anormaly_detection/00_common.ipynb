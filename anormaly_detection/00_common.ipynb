{
 "cells": [
  {
   "cell_type": "code",
   "execution_count": 3,
   "metadata": {},
   "outputs": [],
   "source": [
    "import os\n",
    "\n",
    "def get_os_env_var(var_name):\n",
    "    return os.environ[var_name]\n",
    "\n",
    "def check_version():\n",
    "    # Check python and Azure CLI version\n",
    "\n",
    "    !python --version\n",
    "    !az --version\n",
    "\n",
    "    # Check Azure ML SDK installed\n",
    "    import azureml.core\n",
    "    from azureml.core import Workspace\n",
    "\n",
    "    print(\"SDK version:\", azureml.core.VERSION)\n",
    "    \n",
    "# Enter the resource group in Azure where you want to provision the resources \n",
    "resource_group_name = get_os_env_var(\"resource_group_name\")\n",
    "\n",
    "# Enter Azure region where your services will be provisioned, for example \"eastus2\"\n",
    "azure_region=get_os_env_var(\"azure_region\")\n",
    "\n",
    "# Provide your Azure subscription ID to provision your services\n",
    "subscription_id =get_os_env_var(\"subscription_id\")\n",
    "\n",
    "# Provide your Azure ML service workspace name \n",
    "# If you don't have a workspace, pick a name to create a new one\n",
    "aml_workspace_name = get_os_env_var(\"aml_workspace_name\")"
   ]
  },
  {
   "cell_type": "code",
   "execution_count": 4,
   "metadata": {},
   "outputs": [
    {
     "name": "stdout",
     "output_type": "stream",
     "text": [
      "\u001b[33mNote, we have launched a browser for you to login. For old experience with device code, use \"az login --use-device-code\"\u001b[0m\n",
      "Unable to revert mtime: /usr/local/share/fonts\n",
      "Opening in existing browser session.\n",
      "\u001b[33mYou have logged in. Now let us find all the subscriptions to which you have access...\u001b[0m\n",
      "[\n",
      "  {\n",
      "    \"cloudName\": \"AzureCloud\",\n",
      "    \"id\": \"2b76f630-69ca-40e9-a1ce-69d0d46fcca8\",\n",
      "    \"isDefault\": false,\n",
      "    \"name\": \"MineStar EXT QA\",\n",
      "    \"state\": \"Enabled\",\n",
      "    \"tenantId\": \"ceb177bf-013b-49ab-8a9c-4abce32afc1e\",\n",
      "    \"user\": {\n",
      "      \"name\": \"Hung_Alice_P@cat.com\",\n",
      "      \"type\": \"user\"\n",
      "    }\n",
      "  },\n",
      "  {\n",
      "    \"cloudName\": \"AzureCloud\",\n",
      "    \"id\": \"2643b3a6-256f-49a8-81a2-16283d061433\",\n",
      "    \"isDefault\": true,\n",
      "    \"name\": \"MineStar EXT Dev\",\n",
      "    \"state\": \"Enabled\",\n",
      "    \"tenantId\": \"ceb177bf-013b-49ab-8a9c-4abce32afc1e\",\n",
      "    \"user\": {\n",
      "      \"name\": \"Hung_Alice_P@cat.com\",\n",
      "      \"type\": \"user\"\n",
      "    }\n",
      "  },\n",
      "  {\n",
      "    \"cloudName\": \"AzureCloud\",\n",
      "    \"id\": \"2dc23ad0-abb9-4908-a669-196ef7956029\",\n",
      "    \"isDefault\": false,\n",
      "    \"name\": \"MineStar EXT Staging\",\n",
      "    \"state\": \"Enabled\",\n",
      "    \"tenantId\": \"ceb177bf-013b-49ab-8a9c-4abce32afc1e\",\n",
      "    \"user\": {\n",
      "      \"name\": \"Hung_Alice_P@cat.com\",\n",
      "      \"type\": \"user\"\n",
      "    }\n",
      "  }\n",
      "]\n",
      "\u001b[0m"
     ]
    }
   ],
   "source": [
    "# Azure Login - should open a browser page to login to Azure\n",
    "!az login"
   ]
  },
  {
   "cell_type": "code",
   "execution_count": 1,
   "metadata": {
    "collapsed": true
   },
   "outputs": [],
   "source": [
    "from azureml.core.model import Model\n",
    "from azureml.core import Workspace\n",
    "\n",
    "def load_workspace():\n",
    "    import os.path\n",
    "    if os.path.isfile(\"aml_config/config.json\"):\n",
    "        ws = Workspace.from_config()\n",
    "    else:\n",
    "        ws = Workspace.create(subscription_id = subscription_id,\n",
    "                    resource_group = resource_group_name,\n",
    "                    name = aml_workspace_name,\n",
    "                    location = azure_region)\n",
    "        ws.write_config() # Write config file to aml_config/config.json\n",
    "    return ws\n",
    "    print(\"Using Azure ML Workspace '\" + ws.name + \"'\")\n",
    "    #print(ws.name, ws.resource_group, ws.location, ws.subscription_id, sep = '\\n')\n",
    "\n",
    "def register_model(ws, model_path, model_name, tags=None, description=None):\n",
    "    model = Model.register(model_path = model_path,\n",
    "                           model_name = model_name,\n",
    "                           tags = tags,\n",
    "                           description = description,\n",
    "                           workspace = ws)\n",
    "    return model\n",
    "\n",
    "def get_model(ws, model_name):\n",
    "#     model_name = \"azureml-anormaly-model\"\n",
    "#     model_path=\"model.pkl\"\n",
    "    return Model(workspace=ws, name=model_name)\n",
    "    \n",
    "def post_login():\n",
    "    # Set subscription after login\n",
    "    print('Setting subscription...')\n",
    "    !az account set --subscription $subscription_id"
   ]
  }
 ],
 "metadata": {
  "kernelspec": {
   "display_name": "Python 3",
   "language": "python",
   "name": "python3"
  },
  "language_info": {
   "codemirror_mode": {
    "name": "ipython",
    "version": 3
   },
   "file_extension": ".py",
   "mimetype": "text/x-python",
   "name": "python",
   "nbconvert_exporter": "python",
   "pygments_lexer": "ipython3",
   "version": "3.6.1"
  }
 },
 "nbformat": 4,
 "nbformat_minor": 2
}
