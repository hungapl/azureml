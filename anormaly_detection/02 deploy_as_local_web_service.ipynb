{
 "cells": [
  {
   "cell_type": "code",
   "execution_count": null,
   "metadata": {
    "collapsed": true
   },
   "outputs": [],
   "source": [
    "%run 00_common.ipynb"
   ]
  },
  {
   "cell_type": "code",
   "execution_count": null,
   "metadata": {
    "collapsed": true
   },
   "outputs": [],
   "source": [
    "post_login()\n",
    "ws = load_workspace()"
   ]
  },
  {
   "cell_type": "code",
   "execution_count": null,
   "metadata": {
    "collapsed": true
   },
   "outputs": [],
   "source": [
    "# Local web service port\n",
    "port=8890"
   ]
  },
  {
   "cell_type": "markdown",
   "metadata": {},
   "source": [
    "### Deploy as a Local Web Service"
   ]
  },
  {
   "cell_type": "code",
   "execution_count": null,
   "metadata": {
    "collapsed": true
   },
   "outputs": [],
   "source": [
    "from azureml.core.model import Model\n",
    "from azureml.core.image import ContainerImage\n",
    "\n",
    "from azureml.core.webservice import LocalWebservice, Webservice\n",
    "from azureml.core.model import InferenceConfig\n",
    "inference_config = InferenceConfig(runtime= \"python\", \n",
    "                                   entry_script=\"iot_score.py\",\n",
    "                                   conda_file=\"myenv.yml\",\n",
    "                                   extra_docker_file_steps=\"/home/hungap/development/azureml/docker/set-proxy\")\n",
    "# image_config = ContainerImage.image_configuration(runtime= \"python\",\n",
    "#                                  execution_script=\"iot_score.py\",\n",
    "#                                  conda_file=\"myenv.yml\",\n",
    "#                                  docker_file=\"localDockerFile\",\n",
    "#                                  tags = {'area': \"iot\", 'type': \"classification\"},\n",
    "#                                  description = \"IOT Edge anomaly detection demo\")\n",
    "deployment_config = LocalWebservice.deploy_configuration(port=port)\n",
    "service = Model.deploy(ws, \"anomaly_ws\", [model], inference_config, deployment_config)\n",
    "service.wait_for_deployment(show_output = True)\n",
    "print(service.state)"
   ]
  },
  {
   "cell_type": "markdown",
   "metadata": {},
   "source": [
    "### Test Web Service"
   ]
  },
  {
   "cell_type": "code",
   "execution_count": null,
   "metadata": {
    "collapsed": true
   },
   "outputs": [],
   "source": [
    "import requests\n",
    "import json\n",
    "\n",
    "headers = {'Content-Type': 'application/json'}\n",
    "\n",
    "local_web_service = True\n",
    "scoring_uri = \"http://localhost:\" + port+ \"/score\"\n",
    "\n",
    "test_sample = json.dumps({ \"machine\": { \"temperature\": 31.16469009, \"pressure\": 2.158002669 }, \\\n",
    "                          \"ambient\": { \"temperature\": 21.17794693, \"humidity\": 25 },\\\n",
    "                          \"timeCreated\": \"2017-10-27T18:14:02.4911177Z\" })\n",
    "\n",
    "response = requests.post(scoring_uri, data=test_sample, headers=headers)\n",
    "print(response.status_code)\n",
    "print(response.content)"
   ]
  },
  {
   "cell_type": "markdown",
   "metadata": {},
   "source": [
    "### Remove Web Service"
   ]
  },
  {
   "cell_type": "code",
   "execution_count": null,
   "metadata": {
    "collapsed": true
   },
   "outputs": [],
   "source": [
    "service.delete()"
   ]
  }
 ],
 "metadata": {
  "kernelspec": {
   "display_name": "Python 3",
   "language": "python",
   "name": "python3"
  },
  "language_info": {
   "codemirror_mode": {
    "name": "ipython",
    "version": 3
   },
   "file_extension": ".py",
   "mimetype": "text/x-python",
   "name": "python",
   "nbconvert_exporter": "python",
   "pygments_lexer": "ipython3",
   "version": "3.6.1"
  }
 },
 "nbformat": 4,
 "nbformat_minor": 2
}
